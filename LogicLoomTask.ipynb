{
  "nbformat": 4,
  "nbformat_minor": 0,
  "metadata": {
    "colab": {
      "provenance": [],
      "include_colab_link": true
    },
    "kernelspec": {
      "name": "python3",
      "display_name": "Python 3"
    },
    "language_info": {
      "name": "python"
    }
  },
  "cells": [
    {
      "cell_type": "markdown",
      "metadata": {
        "id": "view-in-github",
        "colab_type": "text"
      },
      "source": [
        "<a href=\"https://colab.research.google.com/github/sauravkrpal/headline-generation-system/blob/main/LogicLoomTask.ipynb\" target=\"_parent\"><img src=\"https://colab.research.google.com/assets/colab-badge.svg\" alt=\"Open In Colab\"/></a>"
      ]
    },
    {
      "cell_type": "code",
      "source": [
        "!pip install rouge\n",
        "!pip install rouge-score"
      ],
      "metadata": {
        "colab": {
          "base_uri": "https://localhost:8080/"
        },
        "id": "Km-f6D5KRkHH",
        "outputId": "58bbedab-99de-4541-e018-ef6249617586"
      },
      "execution_count": null,
      "outputs": [
        {
          "output_type": "stream",
          "name": "stdout",
          "text": [
            "Requirement already satisfied: rouge in /usr/local/lib/python3.10/dist-packages (1.0.1)\n",
            "Requirement already satisfied: six in /usr/local/lib/python3.10/dist-packages (from rouge) (1.17.0)\n",
            "Collecting rouge-score\n",
            "  Downloading rouge_score-0.1.2.tar.gz (17 kB)\n",
            "  Preparing metadata (setup.py) ... \u001b[?25l\u001b[?25hdone\n",
            "Requirement already satisfied: absl-py in /usr/local/lib/python3.10/dist-packages (from rouge-score) (1.4.0)\n",
            "Requirement already satisfied: nltk in /usr/local/lib/python3.10/dist-packages (from rouge-score) (3.9.1)\n",
            "Requirement already satisfied: numpy in /usr/local/lib/python3.10/dist-packages (from rouge-score) (1.26.4)\n",
            "Requirement already satisfied: six>=1.14.0 in /usr/local/lib/python3.10/dist-packages (from rouge-score) (1.17.0)\n",
            "Requirement already satisfied: click in /usr/local/lib/python3.10/dist-packages (from nltk->rouge-score) (8.1.7)\n",
            "Requirement already satisfied: joblib in /usr/local/lib/python3.10/dist-packages (from nltk->rouge-score) (1.4.2)\n",
            "Requirement already satisfied: regex>=2021.8.3 in /usr/local/lib/python3.10/dist-packages (from nltk->rouge-score) (2024.11.6)\n",
            "Requirement already satisfied: tqdm in /usr/local/lib/python3.10/dist-packages (from nltk->rouge-score) (4.67.1)\n",
            "Building wheels for collected packages: rouge-score\n",
            "  Building wheel for rouge-score (setup.py) ... \u001b[?25l\u001b[?25hdone\n",
            "  Created wheel for rouge-score: filename=rouge_score-0.1.2-py3-none-any.whl size=24935 sha256=d2bf84474a8606797cc45399bd5a73c441146a57841d507c34a7a6674a780a7c\n",
            "  Stored in directory: /root/.cache/pip/wheels/5f/dd/89/461065a73be61a532ff8599a28e9beef17985c9e9c31e541b4\n",
            "Successfully built rouge-score\n",
            "Installing collected packages: rouge-score\n",
            "Successfully installed rouge-score-0.1.2\n"
          ]
        }
      ]
    },
    {
      "cell_type": "markdown",
      "source": [
        "**Note:** Below is a **basic** Python code using a simple machine learning pipeline for the LogicLooM 3.0 ML Contest problem statement. This example employs a bag-of-words representation for text and a basic regression model to approximate captions.\n",
        "\n",
        "Participants, please understand that this will serve as **just a foundational framework for the beginners** It highlights the process of training, evaluation, and generating predictions for submission."
      ],
      "metadata": {
        "id": "3D1sQ4B43OI-"
      }
    },
    {
      "source": [
        "import pandas as pd\n",
        "from sklearn.feature_extraction.text import TfidfVectorizer\n",
        "from sklearn.linear_model import Ridge\n",
        "from sklearn.model_selection import train_test_split\n",
        "from nltk.translate.bleu_score import sentence_bleu\n",
        "from rouge_score import rouge_scorer\n",
        "import re\n",
        "\n",
        "# Step 5: Evaluating the Model - Function definition moved to the top\n",
        "def evaluate_metrics(predictions, references):\n",
        "    \"\"\"\n",
        "    Calculates BLEU and ROUGE-L scores for predictions and references.\n",
        "    \"\"\"\n",
        "    bleu_scores = []\n",
        "    rouge_scorer_obj = rouge_scorer.RougeScorer(['rougeL'], use_stemmer=True)\n",
        "    rouge_l_scores = []\n",
        "\n",
        "    for pred, ref in zip(predictions, references):\n",
        "        pred_tokens = pred.split()\n",
        "        ref_tokens = ref.split()\n",
        "\n",
        "        # BLEU Score\n",
        "        bleu_score = sentence_bleu([ref_tokens], pred_tokens)\n",
        "        bleu_scores.append(bleu_score)\n",
        "\n",
        "        # ROUGE-L Score\n",
        "        rouge_score = rouge_scorer_obj.score(ref, pred)['rougeL'].fmeasure\n",
        "        rouge_l_scores.append(rouge_score)\n",
        "\n",
        "    avg_bleu = sum(bleu_scores) / len(bleu_scores)\n",
        "    avg_rouge_l = sum(rouge_l_scores) / len(rouge_l_scores)\n",
        "\n",
        "    return avg_bleu, avg_rouge_l\n",
        "\n",
        "# Step 1: Loading the datasets\n",
        "train_file = 'LABELLED_TRAIN.csv'\n",
        "val_file = 'LABELLED_DEV.csv'\n",
        "test_file = 'UNLABELLED_TEST.csv'  # To be used once the test set is released\n",
        "\n",
        "train_data = pd.read_csv(train_file)\n",
        "val_data = pd.read_csv(val_file)\n",
        "\n",
        "# Load test data only if it exists\n",
        "try:\n",
        "    test_data = pd.read_csv(test_file)\n",
        "except FileNotFoundError:\n",
        "    print(\"Test file not found. Proceeding without test data.\")\n",
        "    test_data = None\n",
        "\n",
        "# Step 2: Preprocessing Function\n",
        "def preprocess_text(text):\n",
        "    \"\"\"\n",
        "    Preprocesses the input text:\n",
        "    - Removes special characters\n",
        "    - Converts to lowercase\n",
        "    \"\"\"\n",
        "    text = re.sub(r'[^a-zA-Z0-9\\s]', '', text)  # Remove special characters\n",
        "    text = text.lower()  # Convert to lowercase\n",
        "    return text\n",
        "\n",
        "# Preprocess the articles and captions\n",
        "train_data['News Article'] = train_data['News Article'].apply(preprocess_text)\n",
        "val_data['News Article'] = val_data['News Article'].apply(preprocess_text)\n",
        "train_data['Caption'] = train_data['Caption'].apply(preprocess_text)\n",
        "val_data['Caption'] = val_data['Caption'].apply(preprocess_text)\n",
        "\n",
        "if test_data is not None:\n",
        "    test_data['News Article'] = test_data['News Article'].apply(preprocess_text)\n",
        "\n",
        "# Convert captions to TF-IDF representations\n",
        "y_vectorizer = TfidfVectorizer(max_features=5000)  # New TF-IDF vectorizer for the captions\n",
        "y_train = train_data['Caption']\n",
        "y_val = val_data['Caption']\n",
        "\n",
        "y_train_tfidf = y_vectorizer.fit_transform(y_train).toarray()\n",
        "y_val_tfidf = y_vectorizer.transform(y_val).toarray()\n",
        "\n",
        "# Step 3: Feature Extraction using TF-IDF\n",
        "# TF-IDF: Term Frequency-Inverse Document Frequency, a feature representation for text\n",
        "vectorizer = TfidfVectorizer(max_features=5000)\n",
        "X_train = vectorizer.fit_transform(train_data['News Article'])\n",
        "X_val = vectorizer.transform(val_data['News Article'])\n",
        "\n",
        "if test_data is not None:\n",
        "    X_test = vectorizer.transform(test_data['News Article'])\n",
        "\n",
        "# Training Ridge Regression with numeric targets\n",
        "model = Ridge(alpha=1.0)\n",
        "model.fit(X_train, y_train_tfidf)\n",
        "\n",
        "# Predicting on validation data\n",
        "val_predictions_tfidf = model.predict(X_val)\n",
        "\n",
        "# Decoding predictions back to text (approximation)\n",
        "# Using the feature names to decode predictions\n",
        "def decode_tfidf_predictions(predictions, vectorizer):\n",
        "    \"\"\"Convert predicted TF-IDF values back to approximate text.\"\"\"\n",
        "    feature_names = vectorizer.get_feature_names_out()\n",
        "    decoded_predictions = []\n",
        "    for pred_vector in predictions:\n",
        "        # Take the top N terms with the highest weights\n",
        "        top_indices = pred_vector.argsort()[-10:][::-1]  # Top 10 terms\n",
        "        words = [feature_names[i] for i in top_indices]\n",
        "        decoded_predictions.append(\" \".join(words))\n",
        "    return decoded_predictions\n",
        "\n",
        "# Decode predictions\n",
        "val_predictions_text = decode_tfidf_predictions(val_predictions_tfidf, y_vectorizer)\n",
        "\n",
        "# Evaluate the model\n",
        "val_bleu, val_rouge_l = evaluate_metrics(val_predictions_text, y_val)\n",
        "print(f\"Validation Set Performance - BLEU: {val_bleu:.4f}, ROUGE-L: {val_rouge_l:.4f}\")\n",
        "\n",
        "\n",
        "# Step 6: Predicting on Test Data (if available)\n",
        "if test_data is not None:\n",
        "    test_predictions_tfidf = model.predict(X_test)\n",
        "    test_predictions_text = decode_tfidf_predictions(test_predictions_tfidf, y_vectorizer)\n",
        "    test_data['Prediction'] = test_predictions_text\n",
        "\n",
        "    # Save predictions to CSV\n",
        "    output_file = '{{265}}.csv'\n",
        "    test_data[['ID', 'Prediction']].to_csv(output_file, index=False)\n",
        "    print(f\"Predictions saved to {output_file}\")\n",
        "\n",
        "print(\"Good to goooo!\")"
      ],
      "cell_type": "code",
      "metadata": {
        "colab": {
          "base_uri": "https://localhost:8080/"
        },
        "id": "N53J3xeTjNQh",
        "outputId": "a109063b-2db7-4ecc-fdd5-63c865c7cdd2"
      },
      "execution_count": null,
      "outputs": [
        {
          "output_type": "stream",
          "name": "stderr",
          "text": [
            "/usr/local/lib/python3.10/dist-packages/nltk/translate/bleu_score.py:577: UserWarning: \n",
            "The hypothesis contains 0 counts of 2-gram overlaps.\n",
            "Therefore the BLEU score evaluates to 0, independently of\n",
            "how many N-gram overlaps of lower order it contains.\n",
            "Consider using lower n-gram order or use SmoothingFunction()\n",
            "  warnings.warn(_msg)\n",
            "/usr/local/lib/python3.10/dist-packages/nltk/translate/bleu_score.py:577: UserWarning: \n",
            "The hypothesis contains 0 counts of 3-gram overlaps.\n",
            "Therefore the BLEU score evaluates to 0, independently of\n",
            "how many N-gram overlaps of lower order it contains.\n",
            "Consider using lower n-gram order or use SmoothingFunction()\n",
            "  warnings.warn(_msg)\n",
            "/usr/local/lib/python3.10/dist-packages/nltk/translate/bleu_score.py:577: UserWarning: \n",
            "The hypothesis contains 0 counts of 4-gram overlaps.\n",
            "Therefore the BLEU score evaluates to 0, independently of\n",
            "how many N-gram overlaps of lower order it contains.\n",
            "Consider using lower n-gram order or use SmoothingFunction()\n",
            "  warnings.warn(_msg)\n"
          ]
        },
        {
          "output_type": "stream",
          "name": "stdout",
          "text": [
            "Validation Set Performance - BLEU: 0.0008, ROUGE-L: 0.1417\n",
            "Predictions saved to {{265}}.csv\n",
            "Good to goooo!\n"
          ]
        }
      ]
    },
    {
      "source": [
        "!pip install --upgrade keras tensorflow\n",
        "from tensorflow.keras.models import Sequential\n",
        "from tensorflow.keras.layers import Embedding, LSTM, Dense, Dropout\n",
        "from tensorflow.keras.preprocessing.text import Tokenizer\n",
        "from tensorflow.keras.preprocessing.sequence import pad_sequences\n",
        "import pandas as pd\n",
        "import re\n",
        "from sklearn.feature_extraction.text import TfidfVectorizer\n",
        "\n",
        "\n",
        "# Step 1: Loading the datasets\n",
        "train_file = 'LABELLED_TRAIN.csv'\n",
        "val_file = 'LABELLED_DEV.csv'\n",
        "\n",
        "train_data = pd.read_csv(train_file)\n",
        "val_data = pd.read_csv(val_file)\n",
        "\n",
        "# Step 2: Preprocessing Function\n",
        "def preprocess_text(text):\n",
        "    \"\"\"\n",
        "    Preprocesses the input text:\n",
        "    - Removes special characters\n",
        "    - Converts to lowercase\n",
        "    \"\"\"\n",
        "    text = re.sub(r'[^a-zA-Z0-9\\s]', '', text)  # Remove special characters\n",
        "    text = text.lower()  # Convert to lowercase\n",
        "    return text\n",
        "\n",
        "# Preprocess the articles and captions\n",
        "train_data['News Article'] = train_data['News Article'].apply(preprocess_text)\n",
        "val_data['News Article'] = val_data['News Article'].apply(preprocess_text)\n",
        "train_data['Caption'] = train_data['Caption'].apply(preprocess_text)\n",
        "val_data['Caption'] = val_data['Caption'].apply(preprocess_text)\n",
        "\n",
        "# Tokenize the text data\n",
        "tokenizer = Tokenizer(num_words=5000)\n",
        "tokenizer.fit_on_texts(train_data['News Article'])\n",
        "X_train_seq = tokenizer.texts_to_sequences(train_data['News Article'])\n",
        "X_val_seq = tokenizer.texts_to_sequences(val_data['News Article'])\n",
        "\n",
        "# Padding sequences to ensure uniform input length\n",
        "max_len = max([len(seq) for seq in X_train_seq])  # Could also be a fixed value\n",
        "X_train_pad = pad_sequences(X_train_seq, maxlen=max_len)\n",
        "X_val_pad = pad_sequences(X_val_seq, maxlen=max_len)\n",
        "\n",
        "# Convert captions to TF-IDF representations\n",
        "y_vectorizer = TfidfVectorizer(max_features=5000)  # New TF-IDF vectorizer for the captions\n",
        "y_train = train_data['Caption']\n",
        "y_val = val_data['Caption']\n",
        "\n",
        "y_train_tfidf = y_vectorizer.fit_transform(y_train).toarray()\n",
        "y_val_tfidf = y_vectorizer.transform(y_val).toarray()\n",
        "\n",
        "\n",
        "# Building the LSTM model\n",
        "model = Sequential()\n",
        "model.add(Embedding(input_dim=5000, output_dim=128, input_length=max_len))\n",
        "model.add(LSTM(128, return_sequences=True))\n",
        "model.add(Dropout(0.2))\n",
        "model.add(LSTM(128))\n",
        "model.add(Dense(5000, activation='linear')) # Output size must match the target size of the vectorizer\n",
        "\n",
        "model.compile(optimizer='adam', loss='mean_squared_error', metrics=['mean_squared_error']) # Changed the loss\n",
        "\n",
        "# Train the model\n",
        "model.fit(X_train_pad, y_train_tfidf, epochs=5, batch_size=64, validation_data=(X_val_pad, y_val_tfidf))"
      ],
      "cell_type": "code",
      "metadata": {
        "colab": {
          "base_uri": "https://localhost:8080/"
        },
        "id": "Qh5ucY9opbpU",
        "outputId": "d240a0b2-a0d5-47fb-957a-27d7961a86e3"
      },
      "execution_count": null,
      "outputs": [
        {
          "output_type": "stream",
          "name": "stdout",
          "text": [
            "Requirement already satisfied: keras in /usr/local/lib/python3.10/dist-packages (3.7.0)\n",
            "Requirement already satisfied: tensorflow in /usr/local/lib/python3.10/dist-packages (2.18.0)\n",
            "Requirement already satisfied: absl-py in /usr/local/lib/python3.10/dist-packages (from keras) (1.4.0)\n",
            "Requirement already satisfied: numpy in /usr/local/lib/python3.10/dist-packages (from keras) (1.26.4)\n",
            "Requirement already satisfied: rich in /usr/local/lib/python3.10/dist-packages (from keras) (13.9.4)\n",
            "Requirement already satisfied: namex in /usr/local/lib/python3.10/dist-packages (from keras) (0.0.8)\n",
            "Requirement already satisfied: h5py in /usr/local/lib/python3.10/dist-packages (from keras) (3.12.1)\n",
            "Requirement already satisfied: optree in /usr/local/lib/python3.10/dist-packages (from keras) (0.13.1)\n",
            "Requirement already satisfied: ml-dtypes in /usr/local/lib/python3.10/dist-packages (from keras) (0.4.1)\n",
            "Requirement already satisfied: packaging in /usr/local/lib/python3.10/dist-packages (from keras) (24.2)\n",
            "Requirement already satisfied: astunparse>=1.6.0 in /usr/local/lib/python3.10/dist-packages (from tensorflow) (1.6.3)\n",
            "Requirement already satisfied: flatbuffers>=24.3.25 in /usr/local/lib/python3.10/dist-packages (from tensorflow) (24.3.25)\n",
            "Requirement already satisfied: gast!=0.5.0,!=0.5.1,!=0.5.2,>=0.2.1 in /usr/local/lib/python3.10/dist-packages (from tensorflow) (0.6.0)\n",
            "Requirement already satisfied: google-pasta>=0.1.1 in /usr/local/lib/python3.10/dist-packages (from tensorflow) (0.2.0)\n",
            "Requirement already satisfied: libclang>=13.0.0 in /usr/local/lib/python3.10/dist-packages (from tensorflow) (18.1.1)\n",
            "Requirement already satisfied: opt-einsum>=2.3.2 in /usr/local/lib/python3.10/dist-packages (from tensorflow) (3.4.0)\n",
            "Requirement already satisfied: protobuf!=4.21.0,!=4.21.1,!=4.21.2,!=4.21.3,!=4.21.4,!=4.21.5,<6.0.0dev,>=3.20.3 in /usr/local/lib/python3.10/dist-packages (from tensorflow) (4.25.5)\n",
            "Requirement already satisfied: requests<3,>=2.21.0 in /usr/local/lib/python3.10/dist-packages (from tensorflow) (2.32.3)\n",
            "Requirement already satisfied: setuptools in /usr/local/lib/python3.10/dist-packages (from tensorflow) (75.1.0)\n",
            "Requirement already satisfied: six>=1.12.0 in /usr/local/lib/python3.10/dist-packages (from tensorflow) (1.17.0)\n",
            "Requirement already satisfied: termcolor>=1.1.0 in /usr/local/lib/python3.10/dist-packages (from tensorflow) (2.5.0)\n",
            "Requirement already satisfied: typing-extensions>=3.6.6 in /usr/local/lib/python3.10/dist-packages (from tensorflow) (4.12.2)\n",
            "Requirement already satisfied: wrapt>=1.11.0 in /usr/local/lib/python3.10/dist-packages (from tensorflow) (1.17.0)\n",
            "Requirement already satisfied: grpcio<2.0,>=1.24.3 in /usr/local/lib/python3.10/dist-packages (from tensorflow) (1.68.1)\n",
            "Requirement already satisfied: tensorboard<2.19,>=2.18 in /usr/local/lib/python3.10/dist-packages (from tensorflow) (2.18.0)\n",
            "Requirement already satisfied: tensorflow-io-gcs-filesystem>=0.23.1 in /usr/local/lib/python3.10/dist-packages (from tensorflow) (0.37.1)\n",
            "Requirement already satisfied: wheel<1.0,>=0.23.0 in /usr/local/lib/python3.10/dist-packages (from astunparse>=1.6.0->tensorflow) (0.45.1)\n",
            "Requirement already satisfied: charset-normalizer<4,>=2 in /usr/local/lib/python3.10/dist-packages (from requests<3,>=2.21.0->tensorflow) (3.4.0)\n",
            "Requirement already satisfied: idna<4,>=2.5 in /usr/local/lib/python3.10/dist-packages (from requests<3,>=2.21.0->tensorflow) (3.10)\n",
            "Requirement already satisfied: urllib3<3,>=1.21.1 in /usr/local/lib/python3.10/dist-packages (from requests<3,>=2.21.0->tensorflow) (2.2.3)\n",
            "Requirement already satisfied: certifi>=2017.4.17 in /usr/local/lib/python3.10/dist-packages (from requests<3,>=2.21.0->tensorflow) (2024.12.14)\n",
            "Requirement already satisfied: markdown>=2.6.8 in /usr/local/lib/python3.10/dist-packages (from tensorboard<2.19,>=2.18->tensorflow) (3.7)\n",
            "Requirement already satisfied: tensorboard-data-server<0.8.0,>=0.7.0 in /usr/local/lib/python3.10/dist-packages (from tensorboard<2.19,>=2.18->tensorflow) (0.7.2)\n",
            "Requirement already satisfied: werkzeug>=1.0.1 in /usr/local/lib/python3.10/dist-packages (from tensorboard<2.19,>=2.18->tensorflow) (3.1.3)\n",
            "Requirement already satisfied: markdown-it-py>=2.2.0 in /usr/local/lib/python3.10/dist-packages (from rich->keras) (3.0.0)\n",
            "Requirement already satisfied: pygments<3.0.0,>=2.13.0 in /usr/local/lib/python3.10/dist-packages (from rich->keras) (2.18.0)\n",
            "Requirement already satisfied: mdurl~=0.1 in /usr/local/lib/python3.10/dist-packages (from markdown-it-py>=2.2.0->rich->keras) (0.1.2)\n",
            "Requirement already satisfied: MarkupSafe>=2.1.1 in /usr/local/lib/python3.10/dist-packages (from werkzeug>=1.0.1->tensorboard<2.19,>=2.18->tensorflow) (3.0.2)\n"
          ]
        },
        {
          "output_type": "stream",
          "name": "stderr",
          "text": [
            "/usr/local/lib/python3.10/dist-packages/keras/src/layers/core/embedding.py:90: UserWarning: Argument `input_length` is deprecated. Just remove it.\n",
            "  warnings.warn(\n"
          ]
        },
        {
          "output_type": "stream",
          "name": "stdout",
          "text": [
            "Epoch 1/5\n",
            "\u001b[1m47/47\u001b[0m \u001b[32m━━━━━━━━━━━━━━━━━━━━\u001b[0m\u001b[37m\u001b[0m \u001b[1m90s\u001b[0m 2s/step - loss: 2.0008e-04 - mean_squared_error: 2.0008e-04 - val_loss: 1.9869e-04 - val_mean_squared_error: 1.9869e-04\n",
            "Epoch 2/5\n",
            "\u001b[1m47/47\u001b[0m \u001b[32m━━━━━━━━━━━━━━━━━━━━\u001b[0m\u001b[37m\u001b[0m \u001b[1m140s\u001b[0m 2s/step - loss: 1.9959e-04 - mean_squared_error: 1.9959e-04 - val_loss: 1.9871e-04 - val_mean_squared_error: 1.9871e-04\n",
            "Epoch 3/5\n",
            "\u001b[1m47/47\u001b[0m \u001b[32m━━━━━━━━━━━━━━━━━━━━\u001b[0m\u001b[37m\u001b[0m \u001b[1m91s\u001b[0m 2s/step - loss: 1.9961e-04 - mean_squared_error: 1.9961e-04 - val_loss: 1.9868e-04 - val_mean_squared_error: 1.9868e-04\n",
            "Epoch 4/5\n",
            "\u001b[1m47/47\u001b[0m \u001b[32m━━━━━━━━━━━━━━━━━━━━\u001b[0m\u001b[37m\u001b[0m \u001b[1m136s\u001b[0m 2s/step - loss: 1.9953e-04 - mean_squared_error: 1.9953e-04 - val_loss: 1.9859e-04 - val_mean_squared_error: 1.9859e-04\n",
            "Epoch 5/5\n",
            "\u001b[1m47/47\u001b[0m \u001b[32m━━━━━━━━━━━━━━━━━━━━\u001b[0m\u001b[37m\u001b[0m \u001b[1m144s\u001b[0m 2s/step - loss: 1.9950e-04 - mean_squared_error: 1.9950e-04 - val_loss: 1.9862e-04 - val_mean_squared_error: 1.9862e-04\n"
          ]
        },
        {
          "output_type": "execute_result",
          "data": {
            "text/plain": [
              "<keras.src.callbacks.history.History at 0x7e2dbec669b0>"
            ]
          },
          "metadata": {},
          "execution_count": 6
        }
      ]
    },
    {
      "source": [
        "!pip install --upgrade keras tensorflow\n",
        "from tensorflow.keras.models import Sequential\n",
        "from tensorflow.keras.layers import Embedding, LSTM, Dense, Dropout\n",
        "from tensorflow.keras.preprocessing.text import Tokenizer\n",
        "from tensorflow.keras.preprocessing.sequence import pad_sequences\n",
        "import pandas as pd\n",
        "import re\n",
        "import numpy as np\n",
        "\n",
        "# Step 1: Loading the datasets\n",
        "train_file = 'LABELLED_TRAIN.csv'\n",
        "val_file = 'LABELLED_DEV.csv'\n",
        "\n",
        "train_data = pd.read_csv(train_file)\n",
        "val_data = pd.read_csv(val_file)\n",
        "\n",
        "# Step 2: Preprocessing Function\n",
        "def preprocess_text(text):\n",
        "    \"\"\"\n",
        "    Preprocesses the input text:\n",
        "    - Removes special characters\n",
        "    - Converts to lowercase\n",
        "    \"\"\"\n",
        "    text = re.sub(r'[^a-zA-Z0-9\\s]', '', text)  # Remove special characters\n",
        "    text = text.lower()  # Convert to lowercase\n",
        "    return text\n",
        "\n",
        "# Preprocess the articles and captions\n",
        "train_data['News Article'] = train_data['News Article'].apply(preprocess_text)\n",
        "val_data['News Article'] = val_data['News Article'].apply(preprocess_text)\n",
        "train_data['Caption'] = train_data['Caption'].apply(preprocess_text) #preprocess captions too\n",
        "val_data['Caption'] = val_data['Caption'].apply(preprocess_text)\n",
        "\n",
        "\n",
        "# Tokenize the text data\n",
        "tokenizer = Tokenizer(num_words=5000)\n",
        "tokenizer.fit_on_texts(train_data['News Article'])\n",
        "X_train_seq = tokenizer.texts_to_sequences(train_data['News Article'])\n",
        "X_val_seq = tokenizer.texts_to_sequences(val_data['News Article'])\n",
        "\n",
        "# Padding sequences to ensure uniform input length\n",
        "max_len = max([len(seq) for seq in X_train_seq])\n",
        "X_train_pad = pad_sequences(X_train_seq, maxlen=max_len)\n",
        "X_val_pad = pad_sequences(X_val_seq, maxlen=max_len)\n",
        "\n",
        "\n",
        "# Create binary labels - let's see if the caption contains 'man' or not\n",
        "y_train = np.array([1 if 'man' in caption else 0 for caption in train_data['Caption']])\n",
        "y_val = np.array([1 if 'man' in caption else 0 for caption in val_data['Caption']])\n",
        "\n",
        "\n",
        "\n",
        "# Building the LSTM model\n",
        "model = Sequential()\n",
        "model.add(Embedding(input_dim=5000, output_dim=128, input_length=max_len))\n",
        "model.add(LSTM(128, return_sequences=True))\n",
        "model.add(Dropout(0.2))\n",
        "model.add(LSTM(128))\n",
        "model.add(Dense(1, activation='sigmoid'))  # Assuming binary classification\n",
        "\n",
        "model.compile(optimizer='adam', loss='binary_crossentropy', metrics=['accuracy'])\n",
        "\n",
        "# Train the model\n",
        "model.fit(X_train_pad, y_train, epochs=5, batch_size=64, validation_data=(X_val_pad, y_val))"
      ],
      "cell_type": "code",
      "metadata": {
        "colab": {
          "base_uri": "https://localhost:8080/"
        },
        "id": "f2O3n6JAsbKi",
        "outputId": "92613805-f730-438e-bae2-666c51250e2a"
      },
      "execution_count": null,
      "outputs": [
        {
          "output_type": "stream",
          "name": "stdout",
          "text": [
            "Requirement already satisfied: keras in /usr/local/lib/python3.10/dist-packages (3.7.0)\n",
            "Requirement already satisfied: tensorflow in /usr/local/lib/python3.10/dist-packages (2.18.0)\n",
            "Requirement already satisfied: absl-py in /usr/local/lib/python3.10/dist-packages (from keras) (1.4.0)\n",
            "Requirement already satisfied: numpy in /usr/local/lib/python3.10/dist-packages (from keras) (1.26.4)\n",
            "Requirement already satisfied: rich in /usr/local/lib/python3.10/dist-packages (from keras) (13.9.4)\n",
            "Requirement already satisfied: namex in /usr/local/lib/python3.10/dist-packages (from keras) (0.0.8)\n",
            "Requirement already satisfied: h5py in /usr/local/lib/python3.10/dist-packages (from keras) (3.12.1)\n",
            "Requirement already satisfied: optree in /usr/local/lib/python3.10/dist-packages (from keras) (0.13.1)\n",
            "Requirement already satisfied: ml-dtypes in /usr/local/lib/python3.10/dist-packages (from keras) (0.4.1)\n",
            "Requirement already satisfied: packaging in /usr/local/lib/python3.10/dist-packages (from keras) (24.2)\n",
            "Requirement already satisfied: astunparse>=1.6.0 in /usr/local/lib/python3.10/dist-packages (from tensorflow) (1.6.3)\n",
            "Requirement already satisfied: flatbuffers>=24.3.25 in /usr/local/lib/python3.10/dist-packages (from tensorflow) (24.3.25)\n",
            "Requirement already satisfied: gast!=0.5.0,!=0.5.1,!=0.5.2,>=0.2.1 in /usr/local/lib/python3.10/dist-packages (from tensorflow) (0.6.0)\n",
            "Requirement already satisfied: google-pasta>=0.1.1 in /usr/local/lib/python3.10/dist-packages (from tensorflow) (0.2.0)\n",
            "Requirement already satisfied: libclang>=13.0.0 in /usr/local/lib/python3.10/dist-packages (from tensorflow) (18.1.1)\n",
            "Requirement already satisfied: opt-einsum>=2.3.2 in /usr/local/lib/python3.10/dist-packages (from tensorflow) (3.4.0)\n",
            "Requirement already satisfied: protobuf!=4.21.0,!=4.21.1,!=4.21.2,!=4.21.3,!=4.21.4,!=4.21.5,<6.0.0dev,>=3.20.3 in /usr/local/lib/python3.10/dist-packages (from tensorflow) (4.25.5)\n",
            "Requirement already satisfied: requests<3,>=2.21.0 in /usr/local/lib/python3.10/dist-packages (from tensorflow) (2.32.3)\n",
            "Requirement already satisfied: setuptools in /usr/local/lib/python3.10/dist-packages (from tensorflow) (75.1.0)\n",
            "Requirement already satisfied: six>=1.12.0 in /usr/local/lib/python3.10/dist-packages (from tensorflow) (1.17.0)\n",
            "Requirement already satisfied: termcolor>=1.1.0 in /usr/local/lib/python3.10/dist-packages (from tensorflow) (2.5.0)\n",
            "Requirement already satisfied: typing-extensions>=3.6.6 in /usr/local/lib/python3.10/dist-packages (from tensorflow) (4.12.2)\n",
            "Requirement already satisfied: wrapt>=1.11.0 in /usr/local/lib/python3.10/dist-packages (from tensorflow) (1.17.0)\n",
            "Requirement already satisfied: grpcio<2.0,>=1.24.3 in /usr/local/lib/python3.10/dist-packages (from tensorflow) (1.68.1)\n",
            "Requirement already satisfied: tensorboard<2.19,>=2.18 in /usr/local/lib/python3.10/dist-packages (from tensorflow) (2.18.0)\n",
            "Requirement already satisfied: tensorflow-io-gcs-filesystem>=0.23.1 in /usr/local/lib/python3.10/dist-packages (from tensorflow) (0.37.1)\n",
            "Requirement already satisfied: wheel<1.0,>=0.23.0 in /usr/local/lib/python3.10/dist-packages (from astunparse>=1.6.0->tensorflow) (0.45.1)\n",
            "Requirement already satisfied: charset-normalizer<4,>=2 in /usr/local/lib/python3.10/dist-packages (from requests<3,>=2.21.0->tensorflow) (3.4.0)\n",
            "Requirement already satisfied: idna<4,>=2.5 in /usr/local/lib/python3.10/dist-packages (from requests<3,>=2.21.0->tensorflow) (3.10)\n",
            "Requirement already satisfied: urllib3<3,>=1.21.1 in /usr/local/lib/python3.10/dist-packages (from requests<3,>=2.21.0->tensorflow) (2.2.3)\n",
            "Requirement already satisfied: certifi>=2017.4.17 in /usr/local/lib/python3.10/dist-packages (from requests<3,>=2.21.0->tensorflow) (2024.12.14)\n",
            "Requirement already satisfied: markdown>=2.6.8 in /usr/local/lib/python3.10/dist-packages (from tensorboard<2.19,>=2.18->tensorflow) (3.7)\n",
            "Requirement already satisfied: tensorboard-data-server<0.8.0,>=0.7.0 in /usr/local/lib/python3.10/dist-packages (from tensorboard<2.19,>=2.18->tensorflow) (0.7.2)\n",
            "Requirement already satisfied: werkzeug>=1.0.1 in /usr/local/lib/python3.10/dist-packages (from tensorboard<2.19,>=2.18->tensorflow) (3.1.3)\n",
            "Requirement already satisfied: markdown-it-py>=2.2.0 in /usr/local/lib/python3.10/dist-packages (from rich->keras) (3.0.0)\n",
            "Requirement already satisfied: pygments<3.0.0,>=2.13.0 in /usr/local/lib/python3.10/dist-packages (from rich->keras) (2.18.0)\n",
            "Requirement already satisfied: mdurl~=0.1 in /usr/local/lib/python3.10/dist-packages (from markdown-it-py>=2.2.0->rich->keras) (0.1.2)\n",
            "Requirement already satisfied: MarkupSafe>=2.1.1 in /usr/local/lib/python3.10/dist-packages (from werkzeug>=1.0.1->tensorboard<2.19,>=2.18->tensorflow) (3.0.2)\n",
            "Epoch 1/5\n"
          ]
        },
        {
          "output_type": "stream",
          "name": "stderr",
          "text": [
            "/usr/local/lib/python3.10/dist-packages/keras/src/layers/core/embedding.py:90: UserWarning: Argument `input_length` is deprecated. Just remove it.\n",
            "  warnings.warn(\n"
          ]
        },
        {
          "output_type": "stream",
          "name": "stdout",
          "text": [
            "\u001b[1m47/47\u001b[0m \u001b[32m━━━━━━━━━━━━━━━━━━━━\u001b[0m\u001b[37m\u001b[0m \u001b[1m95s\u001b[0m 2s/step - accuracy: 0.9083 - loss: 0.3921 - val_accuracy: 0.9260 - val_loss: 0.2638\n",
            "Epoch 2/5\n",
            "\u001b[1m47/47\u001b[0m \u001b[32m━━━━━━━━━━━━━━━━━━━━\u001b[0m\u001b[37m\u001b[0m \u001b[1m138s\u001b[0m 2s/step - accuracy: 0.9296 - loss: 0.2543 - val_accuracy: 0.9260 - val_loss: 0.2714\n",
            "Epoch 3/5\n",
            "\u001b[1m47/47\u001b[0m \u001b[32m━━━━━━━━━━━━━━━━━━━━\u001b[0m\u001b[37m\u001b[0m \u001b[1m86s\u001b[0m 2s/step - accuracy: 0.9422 - loss: 0.2187 - val_accuracy: 0.9250 - val_loss: 0.2621\n",
            "Epoch 4/5\n",
            "\u001b[1m47/47\u001b[0m \u001b[32m━━━━━━━━━━━━━━━━━━━━\u001b[0m\u001b[37m\u001b[0m \u001b[1m142s\u001b[0m 2s/step - accuracy: 0.9495 - loss: 0.1472 - val_accuracy: 0.9100 - val_loss: 0.3056\n",
            "Epoch 5/5\n",
            "\u001b[1m47/47\u001b[0m \u001b[32m━━━━━━━━━━━━━━━━━━━━\u001b[0m\u001b[37m\u001b[0m \u001b[1m96s\u001b[0m 2s/step - accuracy: 0.9814 - loss: 0.0598 - val_accuracy: 0.9140 - val_loss: 0.4117\n"
          ]
        },
        {
          "output_type": "execute_result",
          "data": {
            "text/plain": [
              "<keras.src.callbacks.history.History at 0x7e2db7f77130>"
            ]
          },
          "metadata": {},
          "execution_count": 10
        }
      ]
    },
    {
      "source": [
        "# Step 6: Evaluating the Model\n",
        "val_loss, val_accuracy = model.evaluate(X_val_pad, y_val)\n",
        "print(f\"Validation Loss: {val_loss:.4f}\")\n",
        "print(f\"Validation Accuracy: {val_accuracy:.4f}\")\n",
        "from sklearn.metrics import classification_report\n",
        "import numpy as np\n",
        "\n",
        "# Get predictions from the model\n",
        "val_predictions_prob = model.predict(X_val_pad)\n",
        "\n",
        "# Convert the probabilities to binary predictions\n",
        "val_predictions_binary = (val_predictions_prob > 0.5).astype(int)\n",
        "\n",
        "# Get classification report (Precision, Recall, F1-Score)\n",
        "print(classification_report(y_val, val_predictions_binary))\n",
        "# Step 8: Saving the model\n",
        "model.save('lstm_model.h5')"
      ],
      "cell_type": "code",
      "metadata": {
        "colab": {
          "base_uri": "https://localhost:8080/"
        },
        "id": "6yXGhZG50Xx1",
        "outputId": "1672591a-fea5-4b4d-8ffa-b67d02701b21"
      },
      "execution_count": null,
      "outputs": [
        {
          "output_type": "stream",
          "name": "stdout",
          "text": [
            "\u001b[1m32/32\u001b[0m \u001b[32m━━━━━━━━━━━━━━━━━━━━\u001b[0m\u001b[37m\u001b[0m \u001b[1m13s\u001b[0m 418ms/step - accuracy: 0.9163 - loss: 0.4117\n",
            "Validation Loss: 0.4117\n",
            "Validation Accuracy: 0.9140\n",
            "\u001b[1m32/32\u001b[0m \u001b[32m━━━━━━━━━━━━━━━━━━━━\u001b[0m\u001b[37m\u001b[0m \u001b[1m12s\u001b[0m 362ms/step\n"
          ]
        },
        {
          "output_type": "stream",
          "name": "stderr",
          "text": [
            "WARNING:absl:You are saving your model as an HDF5 file via `model.save()` or `keras.saving.save_model(model)`. This file format is considered legacy. We recommend using instead the native Keras format, e.g. `model.save('my_model.keras')` or `keras.saving.save_model(model, 'my_model.keras')`. \n"
          ]
        },
        {
          "output_type": "stream",
          "name": "stdout",
          "text": [
            "              precision    recall  f1-score   support\n",
            "\n",
            "           0       0.93      0.98      0.95       926\n",
            "           1       0.20      0.05      0.09        74\n",
            "\n",
            "    accuracy                           0.91      1000\n",
            "   macro avg       0.56      0.52      0.52      1000\n",
            "weighted avg       0.87      0.91      0.89      1000\n",
            "\n"
          ]
        }
      ]
    },
    {
      "cell_type": "code",
      "source": [
        "from tensorflow.keras.optimizers import Adam\n",
        "from tensorflow.keras.callbacks import EarlyStopping\n",
        "\n",
        "# Step 1: Adjusting the Learning Rate\n",
        "new_lr = 0.0005  # Adjust learning rate\n",
        "optimizer = Adam(learning_rate=new_lr)\n",
        "\n",
        "# Step 2: Adding More Layers / Increasing Model Complexity\n",
        "model = Sequential()\n",
        "model.add(Embedding(input_dim=5000, output_dim=128, input_length=max_len))\n",
        "model.add(LSTM(128, return_sequences=True))\n",
        "model.add(Dropout(0.3))  # Increased dropout rate to prevent overfitting\n",
        "model.add(LSTM(128, return_sequences=True))  # Adding another LSTM layer\n",
        "model.add(Dropout(0.3))  # Dropout after the second LSTM layer\n",
        "model.add(LSTM(128))  # Another LSTM layer\n",
        "model.add(Dense(1, activation='sigmoid'))  # Binary classification output layer\n",
        "\n",
        "# Compile the model with the adjusted learning rate\n",
        "model.compile(optimizer=optimizer, loss='binary_crossentropy', metrics=['accuracy'])\n",
        "\n",
        "# Step 3: Using Early Stopping\n",
        "early_stopping = EarlyStopping(monitor='val_loss', patience=3, restore_best_weights=True)\n",
        "\n",
        "# Step 4: Train the Model with Adjusted Parameters and Early Stopping\n",
        "model.fit(X_train_pad, y_train, epochs=10, batch_size=32, validation_data=(X_val_pad, y_val), callbacks=[early_stopping])\n",
        "\n",
        "# After training, evaluate the model on the validation set\n",
        "val_loss, val_accuracy = model.evaluate(X_val_pad, y_val)\n",
        "print(f\"Validation Loss: {val_loss}\")\n",
        "print(f\"Validation Accuracy: {val_accuracy}\")\n"
      ],
      "metadata": {
        "colab": {
          "base_uri": "https://localhost:8080/"
        },
        "id": "ctZsoQcn1D_w",
        "outputId": "1c8ca9a9-e49b-4725-d535-917610c7cd51"
      },
      "execution_count": null,
      "outputs": [
        {
          "output_type": "stream",
          "name": "stdout",
          "text": [
            "Epoch 1/10\n"
          ]
        },
        {
          "output_type": "stream",
          "name": "stderr",
          "text": [
            "/usr/local/lib/python3.10/dist-packages/keras/src/layers/core/embedding.py:90: UserWarning: Argument `input_length` is deprecated. Just remove it.\n",
            "  warnings.warn(\n"
          ]
        },
        {
          "output_type": "stream",
          "name": "stdout",
          "text": [
            "\u001b[1m94/94\u001b[0m \u001b[32m━━━━━━━━━━━━━━━━━━━━\u001b[0m\u001b[37m\u001b[0m \u001b[1m197s\u001b[0m 2s/step - accuracy: 0.9165 - loss: 0.3587 - val_accuracy: 0.9260 - val_loss: 0.2741\n",
            "Epoch 2/10\n",
            "\u001b[1m94/94\u001b[0m \u001b[32m━━━━━━━━━━━━━━━━━━━━\u001b[0m\u001b[37m\u001b[0m \u001b[1m204s\u001b[0m 2s/step - accuracy: 0.9360 - loss: 0.2338 - val_accuracy: 0.9260 - val_loss: 0.3058\n",
            "Epoch 3/10\n",
            "\u001b[1m94/94\u001b[0m \u001b[32m━━━━━━━━━━━━━━━━━━━━\u001b[0m\u001b[37m\u001b[0m \u001b[1m192s\u001b[0m 2s/step - accuracy: 0.9644 - loss: 0.1047 - val_accuracy: 0.9240 - val_loss: 0.3127\n",
            "Epoch 4/10\n",
            "\u001b[1m94/94\u001b[0m \u001b[32m━━━━━━━━━━━━━━━━━━━━\u001b[0m\u001b[37m\u001b[0m \u001b[1m201s\u001b[0m 2s/step - accuracy: 0.9923 - loss: 0.0304 - val_accuracy: 0.9120 - val_loss: 0.4730\n",
            "\u001b[1m32/32\u001b[0m \u001b[32m━━━━━━━━━━━━━━━━━━━━\u001b[0m\u001b[37m\u001b[0m \u001b[1m17s\u001b[0m 526ms/step - accuracy: 0.9221 - loss: 0.2863\n",
            "Validation Loss: 0.2741192579269409\n",
            "Validation Accuracy: 0.9259999990463257\n"
          ]
        }
      ]
    },
    {
      "cell_type": "code",
      "source": [
        "import pandas as pd\n",
        "from sklearn.feature_extraction.text import TfidfVectorizer\n",
        "from sklearn.linear_model import Ridge\n",
        "from sklearn.model_selection import train_test_split\n",
        "from nltk.translate.bleu_score import sentence_bleu\n",
        "from rouge_score import rouge_scorer\n",
        "import re\n",
        "\n",
        "# Step 5: Evaluating the Model - Function definition moved to the top\n",
        "def evaluate_metrics(predictions, references):\n",
        "    \"\"\"\n",
        "    Calculates BLEU and ROUGE-L scores for predictions and references.\n",
        "    \"\"\"\n",
        "    bleu_scores = []\n",
        "    rouge_scorer_obj = rouge_scorer.RougeScorer(['rougeL'], use_stemmer=True)\n",
        "    rouge_l_scores = []\n",
        "\n",
        "    for pred, ref in zip(predictions, references):\n",
        "        pred_tokens = pred.split()\n",
        "        ref_tokens = ref.split()\n",
        "\n",
        "        # BLEU Score\n",
        "        bleu_score = sentence_bleu([ref_tokens], pred_tokens)\n",
        "        bleu_scores.append(bleu_score)\n",
        "\n",
        "        # ROUGE-L Score\n",
        "        rouge_score = rouge_scorer_obj.score(ref, pred)['rougeL'].fmeasure\n",
        "        rouge_l_scores.append(rouge_score)\n",
        "\n",
        "    avg_bleu = sum(bleu_scores) / len(bleu_scores)\n",
        "    avg_rouge_l = sum(rouge_l_scores) / len(rouge_l_scores)\n",
        "\n",
        "    return avg_bleu, avg_rouge_l\n",
        "\n",
        "# Step 1: Loading the datasets\n",
        "train_file = 'LABELLED_TRAIN.csv'\n",
        "val_file = 'LABELLED_DEV.csv'\n",
        "test_file = 'UNLABELLED_TEST.csv'  # To be used once the test set is released\n",
        "\n",
        "train_data = pd.read_csv(train_file)\n",
        "val_data = pd.read_csv(val_file)\n",
        "\n",
        "# Load test data only if it exists\n",
        "try:\n",
        "    test_data = pd.read_csv(test_file)\n",
        "except FileNotFoundError:\n",
        "    print(\"Test file not found. Proceeding without test data.\")\n",
        "    test_data = None\n",
        "\n",
        "# Step 2: Preprocessing Function\n",
        "def preprocess_text(text):\n",
        "    \"\"\"\n",
        "    Preprocesses the input text:\n",
        "    - Removes special characters\n",
        "    - Converts to lowercase\n",
        "    \"\"\"\n",
        "    text = re.sub(r'[^a-zA-Z0-9\\s]', '', text)  # Remove special characters\n",
        "    text = text.lower()  # Convert to lowercase\n",
        "    return text\n",
        "\n",
        "# Preprocess the articles and captions\n",
        "train_data['News Article'] = train_data['News Article'].apply(preprocess_text)\n",
        "val_data['News Article'] = val_data['News Article'].apply(preprocess_text)\n",
        "train_data['Caption'] = train_data['Caption'].apply(preprocess_text)\n",
        "val_data['Caption'] = val_data['Caption'].apply(preprocess_text)\n",
        "\n",
        "if test_data is not None:\n",
        "    test_data['News Article'] = test_data['News Article'].apply(preprocess_text)\n",
        "\n",
        "# Convert captions to TF-IDF representations\n",
        "y_vectorizer = TfidfVectorizer(max_features=5000)  # New TF-IDF vectorizer for the captions\n",
        "y_train = train_data['Caption']\n",
        "y_val = val_data['Caption']\n",
        "\n",
        "y_train_tfidf = y_vectorizer.fit_transform(y_train).toarray()\n",
        "y_val_tfidf = y_vectorizer.transform(y_val).toarray()\n",
        "\n",
        "# Step 3: Feature Extraction using TF-IDF\n",
        "# TF-IDF: Term Frequency-Inverse Document Frequency, a feature representation for text\n",
        "vectorizer = TfidfVectorizer(max_features=5000)\n",
        "X_train = vectorizer.fit_transform(train_data['News Article'])\n",
        "X_val = vectorizer.transform(val_data['News Article'])\n",
        "\n",
        "if test_data is not None:\n",
        "    X_test = vectorizer.transform(test_data['News Article'])\n",
        "\n",
        "# Training Ridge Regression with numeric targets\n",
        "model = Ridge(alpha=1.0)\n",
        "model.fit(X_train, y_train_tfidf)\n",
        "\n",
        "# Predicting on validation data\n",
        "val_predictions_tfidf = model.predict(X_val)\n",
        "\n",
        "# Decoding predictions back to text (approximation)\n",
        "# Using the feature names to decode predictions\n",
        "def decode_tfidf_predictions(predictions, vectorizer):\n",
        "    \"\"\"Convert predicted TF-IDF values back to approximate text.\"\"\"\n",
        "    feature_names = vectorizer.get_feature_names_out()\n",
        "    decoded_predictions = []\n",
        "    for pred_vector in predictions:\n",
        "        # Take the top N terms with the highest weights\n",
        "        top_indices = pred_vector.argsort()[-10:][::-1]  # Top 10 terms\n",
        "        words = [feature_names[i] for i in top_indices]\n",
        "        decoded_predictions.append(\" \".join(words))\n",
        "    return decoded_predictions\n",
        "\n",
        "# Decode predictions\n",
        "val_predictions_text = decode_tfidf_predictions(val_predictions_tfidf, y_vectorizer)\n",
        "\n",
        "# Evaluate the model\n",
        "val_bleu, val_rouge_l = evaluate_metrics(val_predictions_text, y_val)\n",
        "print(f\"Validation Set Performance - BLEU: {val_bleu:.4f}, ROUGE-L: {val_rouge_l:.4f}\")\n",
        "\n",
        "\n",
        "# Step 6: Predicting on Test Data (if available)\n",
        "if test_data is not None:\n",
        "    test_predictions_tfidf = model.predict(X_test)\n",
        "    test_predictions_text = decode_tfidf_predictions(test_predictions_tfidf, y_vectorizer)\n",
        "    test_data['Prediction'] = test_predictions_text\n",
        "\n",
        "    # Prepare the submission DataFrame\n",
        "    submission = pd.DataFrame({\n",
        "        'ID': [f\"TEST_{i+1}\" for i in range(len(test_data))],  # Create unique IDs (TEST_1, TEST_2, ...)\n",
        "        'Prediction': test_predictions_text\n",
        "    })\n",
        "\n",
        "    # Save predictions to CSV\n",
        "    output_file = 'team_id.csv'  # Replace with your team ID in the file name\n",
        "    submission.to_csv(output_file, index=False)\n",
        "    print(f\"Predictions saved to {output_file}\")\n",
        "\n",
        "print(\"Good to goooo!\")\n"
      ],
      "metadata": {
        "colab": {
          "base_uri": "https://localhost:8080/"
        },
        "id": "jtWsacN978pI",
        "outputId": "69aa3b40-f897-4cb6-a10a-c1901c52bc75"
      },
      "execution_count": null,
      "outputs": [
        {
          "output_type": "stream",
          "name": "stderr",
          "text": [
            "/usr/local/lib/python3.10/dist-packages/nltk/translate/bleu_score.py:577: UserWarning: \n",
            "The hypothesis contains 0 counts of 2-gram overlaps.\n",
            "Therefore the BLEU score evaluates to 0, independently of\n",
            "how many N-gram overlaps of lower order it contains.\n",
            "Consider using lower n-gram order or use SmoothingFunction()\n",
            "  warnings.warn(_msg)\n",
            "/usr/local/lib/python3.10/dist-packages/nltk/translate/bleu_score.py:577: UserWarning: \n",
            "The hypothesis contains 0 counts of 3-gram overlaps.\n",
            "Therefore the BLEU score evaluates to 0, independently of\n",
            "how many N-gram overlaps of lower order it contains.\n",
            "Consider using lower n-gram order or use SmoothingFunction()\n",
            "  warnings.warn(_msg)\n",
            "/usr/local/lib/python3.10/dist-packages/nltk/translate/bleu_score.py:577: UserWarning: \n",
            "The hypothesis contains 0 counts of 4-gram overlaps.\n",
            "Therefore the BLEU score evaluates to 0, independently of\n",
            "how many N-gram overlaps of lower order it contains.\n",
            "Consider using lower n-gram order or use SmoothingFunction()\n",
            "  warnings.warn(_msg)\n"
          ]
        },
        {
          "output_type": "stream",
          "name": "stdout",
          "text": [
            "Validation Set Performance - BLEU: 0.0008, ROUGE-L: 0.1417\n",
            "Predictions saved to team_id.csv\n",
            "Good to goooo!\n"
          ]
        }
      ]
    },
    {
      "cell_type": "code",
      "source": [
        "# Step 6: Predicting on Test Data (if available)\n",
        "if test_data is not None:\n",
        "    # Generate predictions using the trained model\n",
        "    test_predictions_tfidf = model.predict(X_test)\n",
        "    test_predictions_text = decode_tfidf_predictions(test_predictions_tfidf, y_vectorizer)\n",
        "\n",
        "    # Add predictions to the test data DataFrame\n",
        "    test_data['Prediction'] = test_predictions_text\n",
        "\n",
        "    # Create a submission DataFrame with the unique IDs and Predictions\n",
        "    submission = pd.DataFrame({\n",
        "        'ID': [f\"TEST_{i+1}\" for i in range(len(test_data))],  # Generating unique IDs (TEST_1, TEST_2, ...)\n",
        "        'Prediction': test_predictions_text\n",
        "    })\n",
        "\n",
        "    # Save the predictions to a CSV file\n",
        "    output_file = '265.csv'  # Replace 'team_id' with your actual team ID for submission\n",
        "    submission.to_csv(output_file, index=False)\n",
        "    print(f\"Predictions saved to {output_file}\")\n"
      ],
      "metadata": {
        "colab": {
          "base_uri": "https://localhost:8080/"
        },
        "id": "4nWErfSPCQDO",
        "outputId": "98257059-d3c7-420d-ae24-f4132d90571c"
      },
      "execution_count": null,
      "outputs": [
        {
          "output_type": "stream",
          "name": "stdout",
          "text": [
            "Predictions saved to team_id.csv\n"
          ]
        }
      ]
    },
    {
      "cell_type": "code",
      "source": [],
      "metadata": {
        "id": "rJq9eZAOC0Es"
      },
      "execution_count": null,
      "outputs": []
    }
  ]
}